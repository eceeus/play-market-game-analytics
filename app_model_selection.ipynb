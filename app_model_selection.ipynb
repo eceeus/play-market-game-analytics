{
 "cells": [
  {
   "cell_type": "markdown",
   "id": "68f33767",
   "metadata": {},
   "source": [
    "# Model Selection\n",
    "- Logistic Regression\n",
    "- Random Forest\n",
    "- Gradient Boosting"
   ]
  },
  {
   "cell_type": "code",
   "execution_count": 1,
   "id": "68988a14",
   "metadata": {},
   "outputs": [],
   "source": [
    "import pandas as pd\n",
    "import numpy as np\n",
    "from sklearn.model_selection import train_test_split\n",
    "from sklearn.preprocessing import StandardScaler, OneHotEncoder\n",
    "from sklearn.compose import ColumnTransformer\n",
    "from sklearn.pipeline import Pipeline\n",
    "from sklearn.linear_model import LogisticRegression\n",
    "from sklearn.metrics import classification_report, confusion_matrix"
   ]
  },
  {
   "cell_type": "markdown",
   "id": "cb7840aa",
   "metadata": {},
   "source": [
    "# Logistic Regression "
   ]
  },
  {
   "cell_type": "code",
   "execution_count": 3,
   "id": "7c58f7e5",
   "metadata": {},
   "outputs": [],
   "source": [
    "df = pd.read_csv(\"data/apps_info.csv\")\n",
    "df[\"success_class\"] = df[\"score\"].apply(lambda x: \"high\" if x >= 4.2 else \"not_high\")"
   ]
  },
  {
   "cell_type": "code",
   "execution_count": 4,
   "id": "697c7b83",
   "metadata": {},
   "outputs": [],
   "source": [
    "X = df[[\"ratings_count\", \"downloads\", \"content_rating\", \"section\", \"categories\"]]\n",
    "y = df[\"success_class\"]"
   ]
  },
  {
   "cell_type": "code",
   "execution_count": 6,
   "id": "300b3ce0",
   "metadata": {},
   "outputs": [],
   "source": [
    "numeric_features = [\"ratings_count\", \"downloads\"]\n",
    "categorical_features = [\"content_rating\", \"section\", \"categories\"]\n",
    "\n",
    "preprocessor = ColumnTransformer(\n",
    "    transformers=[\n",
    "        (\"num\", StandardScaler(), numeric_features),\n",
    "        (\"cat\", OneHotEncoder(handle_unknown=\"ignore\"), categorical_features),\n",
    "    ]\n",
    ")\n",
    "\n",
    "clf = Pipeline(steps=[\n",
    "    (\"preprocessor\", preprocessor),\n",
    "    (\"classifier\", LogisticRegression(max_iter=1000))\n",
    "])\n"
   ]
  },
  {
   "cell_type": "code",
   "execution_count": 7,
   "id": "9c4e1b3b",
   "metadata": {},
   "outputs": [],
   "source": [
    "X_train, X_test, y_train, y_test = train_test_split(\n",
    "    X, \n",
    "    y, \n",
    "    stratify=y, \n",
    "    test_size=0.2, \n",
    "    random_state=42\n",
    ")\n",
    "\n",
    "clf.fit(X_train, y_train)\n",
    "\n",
    "y_pred = clf.predict(X_test)\n"
   ]
  },
  {
   "cell_type": "code",
   "execution_count": 8,
   "id": "2c3beac0",
   "metadata": {},
   "outputs": [
    {
     "name": "stdout",
     "output_type": "stream",
     "text": [
      "Confusion Matrix:\n",
      "[[35  1]\n",
      " [ 8  0]]\n",
      "\n",
      "Classification Report:\n",
      "              precision    recall  f1-score   support\n",
      "\n",
      "        high       0.81      0.97      0.89        36\n",
      "    not_high       0.00      0.00      0.00         8\n",
      "\n",
      "    accuracy                           0.80        44\n",
      "   macro avg       0.41      0.49      0.44        44\n",
      "weighted avg       0.67      0.80      0.72        44\n",
      "\n"
     ]
    }
   ],
   "source": [
    "print(\"Confusion Matrix:\")\n",
    "print(confusion_matrix(y_test, y_pred))\n",
    "\n",
    "print(\"\\nClassification Report:\")\n",
    "print(classification_report(y_test, y_pred))"
   ]
  }
 ],
 "metadata": {
  "kernelspec": {
   "display_name": "Python 3",
   "language": "python",
   "name": "python3"
  },
  "language_info": {
   "codemirror_mode": {
    "name": "ipython",
    "version": 3
   },
   "file_extension": ".py",
   "mimetype": "text/x-python",
   "name": "python",
   "nbconvert_exporter": "python",
   "pygments_lexer": "ipython3",
   "version": "3.11.11"
  }
 },
 "nbformat": 4,
 "nbformat_minor": 5
}
