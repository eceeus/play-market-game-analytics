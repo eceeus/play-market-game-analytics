{
 "cells": [
  {
   "cell_type": "code",
   "execution_count": 1,
   "id": "da0c8f6b",
   "metadata": {},
   "outputs": [],
   "source": [
    "import pandas as pd\n",
    "import matplotlib.pyplot as plt\n",
    "import seaborn as sns"
   ]
  },
  {
   "cell_type": "code",
   "execution_count": 2,
   "id": "e601eda5",
   "metadata": {},
   "outputs": [],
   "source": [
    "df = pd.read_csv(\"data/apps_reviews.csv\")"
   ]
  },
  {
   "cell_type": "code",
   "execution_count": 3,
   "id": "0c833d90",
   "metadata": {},
   "outputs": [
    {
     "data": {
      "text/html": [
       "<div>\n",
       "<style scoped>\n",
       "    .dataframe tbody tr th:only-of-type {\n",
       "        vertical-align: middle;\n",
       "    }\n",
       "\n",
       "    .dataframe tbody tr th {\n",
       "        vertical-align: top;\n",
       "    }\n",
       "\n",
       "    .dataframe thead th {\n",
       "        text-align: right;\n",
       "    }\n",
       "</style>\n",
       "<table border=\"1\" class=\"dataframe\">\n",
       "  <thead>\n",
       "    <tr style=\"text-align: right;\">\n",
       "      <th></th>\n",
       "      <th>app_id</th>\n",
       "      <th>review_text</th>\n",
       "      <th>review_score</th>\n",
       "      <th>review_date</th>\n",
       "      <th>helpful_count</th>\n",
       "    </tr>\n",
       "  </thead>\n",
       "  <tbody>\n",
       "    <tr>\n",
       "      <th>0</th>\n",
       "      <td>1</td>\n",
       "      <td>I don't know what happened to this app. It was...</td>\n",
       "      <td>1</td>\n",
       "      <td>2025-04-03</td>\n",
       "      <td>6</td>\n",
       "    </tr>\n",
       "    <tr>\n",
       "      <th>1</th>\n",
       "      <td>1</td>\n",
       "      <td>app was good. then the randomly locked my acco...</td>\n",
       "      <td>1</td>\n",
       "      <td>2025-04-13</td>\n",
       "      <td>3</td>\n",
       "    </tr>\n",
       "    <tr>\n",
       "      <th>2</th>\n",
       "      <td>1</td>\n",
       "      <td>Terrible user interface 🤬 Menus cluttered. App...</td>\n",
       "      <td>1</td>\n",
       "      <td>2025-03-17</td>\n",
       "      <td>48</td>\n",
       "    </tr>\n",
       "    <tr>\n",
       "      <th>3</th>\n",
       "      <td>1</td>\n",
       "      <td>I got this app to send money quickly without h...</td>\n",
       "      <td>1</td>\n",
       "      <td>2025-02-01</td>\n",
       "      <td>23</td>\n",
       "    </tr>\n",
       "    <tr>\n",
       "      <th>4</th>\n",
       "      <td>1</td>\n",
       "      <td>You're honestly better off using another app o...</td>\n",
       "      <td>1</td>\n",
       "      <td>2024-12-19</td>\n",
       "      <td>22</td>\n",
       "    </tr>\n",
       "  </tbody>\n",
       "</table>\n",
       "</div>"
      ],
      "text/plain": [
       "   app_id                                        review_text  review_score  \\\n",
       "0       1  I don't know what happened to this app. It was...             1   \n",
       "1       1  app was good. then the randomly locked my acco...             1   \n",
       "2       1  Terrible user interface 🤬 Menus cluttered. App...             1   \n",
       "3       1  I got this app to send money quickly without h...             1   \n",
       "4       1  You're honestly better off using another app o...             1   \n",
       "\n",
       "  review_date  helpful_count  \n",
       "0  2025-04-03              6  \n",
       "1  2025-04-13              3  \n",
       "2  2025-03-17             48  \n",
       "3  2025-02-01             23  \n",
       "4  2024-12-19             22  "
      ]
     },
     "execution_count": 3,
     "metadata": {},
     "output_type": "execute_result"
    }
   ],
   "source": [
    "df.head()  "
   ]
  },
  {
   "cell_type": "code",
   "execution_count": 4,
   "id": "8f941132",
   "metadata": {},
   "outputs": [
    {
     "name": "stdout",
     "output_type": "stream",
     "text": [
      "<class 'pandas.core.frame.DataFrame'>\n",
      "RangeIndex: 466700 entries, 0 to 466699\n",
      "Data columns (total 5 columns):\n",
      " #   Column         Non-Null Count   Dtype \n",
      "---  ------         --------------   ----- \n",
      " 0   app_id         466700 non-null  int64 \n",
      " 1   review_text    466700 non-null  object\n",
      " 2   review_score   466700 non-null  int64 \n",
      " 3   review_date    466700 non-null  object\n",
      " 4   helpful_count  466700 non-null  int64 \n",
      "dtypes: int64(3), object(2)\n",
      "memory usage: 17.8+ MB\n"
     ]
    }
   ],
   "source": [
    "df.info()"
   ]
  },
  {
   "cell_type": "code",
   "execution_count": 5,
   "id": "f40b2dab",
   "metadata": {},
   "outputs": [
    {
     "data": {
      "text/plain": [
       "app_id           0\n",
       "review_text      0\n",
       "review_score     0\n",
       "review_date      0\n",
       "helpful_count    0\n",
       "dtype: int64"
      ]
     },
     "execution_count": 5,
     "metadata": {},
     "output_type": "execute_result"
    }
   ],
   "source": [
    "df.isnull().sum()"
   ]
  },
  {
   "cell_type": "code",
   "execution_count": 6,
   "id": "ba78e61b",
   "metadata": {},
   "outputs": [
    {
     "data": {
      "text/html": [
       "<div>\n",
       "<style scoped>\n",
       "    .dataframe tbody tr th:only-of-type {\n",
       "        vertical-align: middle;\n",
       "    }\n",
       "\n",
       "    .dataframe tbody tr th {\n",
       "        vertical-align: top;\n",
       "    }\n",
       "\n",
       "    .dataframe thead th {\n",
       "        text-align: right;\n",
       "    }\n",
       "</style>\n",
       "<table border=\"1\" class=\"dataframe\">\n",
       "  <thead>\n",
       "    <tr style=\"text-align: right;\">\n",
       "      <th></th>\n",
       "      <th>app_id</th>\n",
       "      <th>review_text</th>\n",
       "      <th>review_score</th>\n",
       "      <th>review_date</th>\n",
       "      <th>helpful_count</th>\n",
       "    </tr>\n",
       "  </thead>\n",
       "  <tbody>\n",
       "    <tr>\n",
       "      <th>count</th>\n",
       "      <td>466700.000000</td>\n",
       "      <td>466700</td>\n",
       "      <td>466700.000000</td>\n",
       "      <td>466700</td>\n",
       "      <td>466700.000000</td>\n",
       "    </tr>\n",
       "    <tr>\n",
       "      <th>unique</th>\n",
       "      <td>NaN</td>\n",
       "      <td>458737</td>\n",
       "      <td>NaN</td>\n",
       "      <td>5356</td>\n",
       "      <td>NaN</td>\n",
       "    </tr>\n",
       "    <tr>\n",
       "      <th>top</th>\n",
       "      <td>NaN</td>\n",
       "      <td>Good</td>\n",
       "      <td>NaN</td>\n",
       "      <td>2025-04-02</td>\n",
       "      <td>NaN</td>\n",
       "    </tr>\n",
       "    <tr>\n",
       "      <th>freq</th>\n",
       "      <td>NaN</td>\n",
       "      <td>70</td>\n",
       "      <td>NaN</td>\n",
       "      <td>760</td>\n",
       "      <td>NaN</td>\n",
       "    </tr>\n",
       "    <tr>\n",
       "      <th>mean</th>\n",
       "      <td>83.638290</td>\n",
       "      <td>NaN</td>\n",
       "      <td>2.973788</td>\n",
       "      <td>NaN</td>\n",
       "      <td>13.545132</td>\n",
       "    </tr>\n",
       "    <tr>\n",
       "      <th>std</th>\n",
       "      <td>69.396137</td>\n",
       "      <td>NaN</td>\n",
       "      <td>1.508177</td>\n",
       "      <td>NaN</td>\n",
       "      <td>179.613284</td>\n",
       "    </tr>\n",
       "    <tr>\n",
       "      <th>min</th>\n",
       "      <td>1.000000</td>\n",
       "      <td>NaN</td>\n",
       "      <td>1.000000</td>\n",
       "      <td>NaN</td>\n",
       "      <td>0.000000</td>\n",
       "    </tr>\n",
       "    <tr>\n",
       "      <th>25%</th>\n",
       "      <td>14.000000</td>\n",
       "      <td>NaN</td>\n",
       "      <td>1.000000</td>\n",
       "      <td>NaN</td>\n",
       "      <td>0.000000</td>\n",
       "    </tr>\n",
       "    <tr>\n",
       "      <th>50%</th>\n",
       "      <td>58.000000</td>\n",
       "      <td>NaN</td>\n",
       "      <td>3.000000</td>\n",
       "      <td>NaN</td>\n",
       "      <td>0.000000</td>\n",
       "    </tr>\n",
       "    <tr>\n",
       "      <th>75%</th>\n",
       "      <td>140.000000</td>\n",
       "      <td>NaN</td>\n",
       "      <td>4.000000</td>\n",
       "      <td>NaN</td>\n",
       "      <td>2.000000</td>\n",
       "    </tr>\n",
       "    <tr>\n",
       "      <th>max</th>\n",
       "      <td>217.000000</td>\n",
       "      <td>NaN</td>\n",
       "      <td>5.000000</td>\n",
       "      <td>NaN</td>\n",
       "      <td>25518.000000</td>\n",
       "    </tr>\n",
       "  </tbody>\n",
       "</table>\n",
       "</div>"
      ],
      "text/plain": [
       "               app_id review_text   review_score review_date  helpful_count\n",
       "count   466700.000000      466700  466700.000000      466700  466700.000000\n",
       "unique            NaN      458737            NaN        5356            NaN\n",
       "top               NaN        Good            NaN  2025-04-02            NaN\n",
       "freq              NaN          70            NaN         760            NaN\n",
       "mean        83.638290         NaN       2.973788         NaN      13.545132\n",
       "std         69.396137         NaN       1.508177         NaN     179.613284\n",
       "min          1.000000         NaN       1.000000         NaN       0.000000\n",
       "25%         14.000000         NaN       1.000000         NaN       0.000000\n",
       "50%         58.000000         NaN       3.000000         NaN       0.000000\n",
       "75%        140.000000         NaN       4.000000         NaN       2.000000\n",
       "max        217.000000         NaN       5.000000         NaN   25518.000000"
      ]
     },
     "execution_count": 6,
     "metadata": {},
     "output_type": "execute_result"
    }
   ],
   "source": [
    "df.describe(include='all')"
   ]
  },
  {
   "cell_type": "code",
   "execution_count": 7,
   "id": "38d4e26e",
   "metadata": {},
   "outputs": [],
   "source": [
    "df.dropna(subset=['review_text', 'review_score', 'review_date'], inplace=True)\n",
    "df['review_score'] = pd.to_numeric(df['review_score'], errors='coerce')"
   ]
  },
  {
   "cell_type": "code",
   "execution_count": 8,
   "id": "2ac728c7",
   "metadata": {},
   "outputs": [],
   "source": [
    "df['review_date'] = pd.to_datetime(df['review_date'], errors='coerce')\n",
    "df = df.dropna(subset=['review_date'])"
   ]
  },
  {
   "cell_type": "code",
   "execution_count": 9,
   "id": "d348b9ed",
   "metadata": {},
   "outputs": [
    {
     "name": "stdout",
     "output_type": "stream",
     "text": [
      "<class 'pandas.core.frame.DataFrame'>\n",
      "RangeIndex: 466700 entries, 0 to 466699\n",
      "Data columns (total 5 columns):\n",
      " #   Column         Non-Null Count   Dtype         \n",
      "---  ------         --------------   -----         \n",
      " 0   app_id         466700 non-null  int64         \n",
      " 1   review_text    466700 non-null  object        \n",
      " 2   review_score   466700 non-null  int64         \n",
      " 3   review_date    466700 non-null  datetime64[ns]\n",
      " 4   helpful_count  466700 non-null  int64         \n",
      "dtypes: datetime64[ns](1), int64(3), object(1)\n",
      "memory usage: 17.8+ MB\n",
      "None\n",
      "              app_id   review_score                 review_date  helpful_count\n",
      "count  466700.000000  466700.000000                      466700  466700.000000\n",
      "mean       83.638290       2.973788  2022-03-07 01:52:17.978144      13.545132\n",
      "min         1.000000       1.000000         2010-04-25 00:00:00       0.000000\n",
      "25%        14.000000       1.000000         2020-06-11 00:00:00       0.000000\n",
      "50%        58.000000       3.000000         2022-05-16 00:00:00       0.000000\n",
      "75%       140.000000       4.000000         2024-06-27 00:00:00       2.000000\n",
      "max       217.000000       5.000000         2025-04-22 00:00:00   25518.000000\n",
      "std        69.396137       1.508177                         NaN     179.613284\n"
     ]
    }
   ],
   "source": [
    "print(df.info())\n",
    "print(df.describe())"
   ]
  },
  {
   "cell_type": "code",
   "execution_count": 10,
   "id": "dd488524",
   "metadata": {},
   "outputs": [
    {
     "name": "stdout",
     "output_type": "stream",
     "text": [
      "(466700, 5)\n"
     ]
    }
   ],
   "source": [
    "print(df.shape) "
   ]
  },
  {
   "cell_type": "code",
   "execution_count": 11,
   "id": "3a376953",
   "metadata": {},
   "outputs": [
    {
     "name": "stdout",
     "output_type": "stream",
     "text": [
      "Index(['app_id', 'review_text', 'review_score', 'review_date',\n",
      "       'helpful_count'],\n",
      "      dtype='object')\n"
     ]
    }
   ],
   "source": [
    "print(df.columns) "
   ]
  },
  {
   "cell_type": "code",
   "execution_count": 12,
   "id": "6bd3d3ab",
   "metadata": {},
   "outputs": [
    {
     "name": "stdout",
     "output_type": "stream",
     "text": [
      "2010-04-25 00:00:00 → 2025-04-22 00:00:00\n"
     ]
    }
   ],
   "source": [
    "print(df['review_date'].min(), \"→\", df['review_date'].max())"
   ]
  },
  {
   "cell_type": "code",
   "execution_count": 13,
   "id": "152b7500",
   "metadata": {},
   "outputs": [],
   "source": [
    "df.to_csv(\"cleaned_apps_reviews.csv\", index=False)"
   ]
  }
 ],
 "metadata": {
  "kernelspec": {
   "display_name": "Python 3",
   "language": "python",
   "name": "python3"
  },
  "language_info": {
   "codemirror_mode": {
    "name": "ipython",
    "version": 3
   },
   "file_extension": ".py",
   "mimetype": "text/x-python",
   "name": "python",
   "nbconvert_exporter": "python",
   "pygments_lexer": "ipython3",
   "version": "3.11.11"
  }
 },
 "nbformat": 4,
 "nbformat_minor": 5
}
